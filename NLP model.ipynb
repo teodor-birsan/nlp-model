{
 "cells": [
  {
   "cell_type": "markdown",
   "id": "e996081a",
   "metadata": {},
   "source": [
    "# NLP model that predics if a tweet describes a natural disaster\n",
    "## Problem description\n",
    "I have the dataset attached to this competition from kaggle: https://www.kaggle.com/competitions/nlp-getting-started which has tweets that can describe a natural disaster. In the training dataset, those the tweets that describe natural disasters have the target value equal to 1, the others that do not have the target value equal to 0. The objective of this model is to predict with tweets can describe natural disasters.\n",
    "\n",
    "## Steps\n",
    "* Preprocess the tweets (lowercase all the words, remove links, remove punctuation, remove stop words)\n",
    "* Sentiment analysis: adding a sentiment label to each tweet could improve the model's accuracy\n",
    "* Tokenize the text\n",
    "* Build different models and pick the one with the highest accuracy"
   ]
  },
  {
   "cell_type": "markdown",
   "id": "caa701b5",
   "metadata": {},
   "source": [
    "## Imports\n",
    "These are imports useful for data processing."
   ]
  },
  {
   "cell_type": "code",
   "execution_count": 2,
   "id": "f7bbbf73",
   "metadata": {},
   "outputs": [],
   "source": [
    "import pandas as pd\n",
    "import re\n",
    "from nltk.tokenize import word_tokenize\n",
    "from nltk.stem import WordNetLemmatizer, PorterStemmer\n",
    "import nltk\n",
    "import spacy\n",
    "from transformers import pipeline\n",
    "import numpy as np\n",
    "from nltk.corpus import stopwords\n",
    "import datasets as dt\n",
    "from transformers.pipelines.pt_utils import KeyDataset"
   ]
  },
  {
   "cell_type": "markdown",
   "id": "15cfc244",
   "metadata": {},
   "source": [
    "## Text preprocessing\n",
    "In this step I will make function that will preprocess the tweets from the dataset. These function will later be used in a pandas pipeline. I chose this approach so I can easly change the order of preprocessing and easily add new steps."
   ]
  },
  {
   "cell_type": "code",
   "execution_count": 3,
   "id": "1c11e58d",
   "metadata": {},
   "outputs": [
    {
     "data": {
      "text/plain": [
       "<function __main__.insert_columns(dataset: pandas.core.frame.DataFrame, columns: list[tuple[int, str]]) -> pandas.core.frame.DataFrame>"
      ]
     },
     "execution_count": 3,
     "metadata": {},
     "output_type": "execute_result"
    }
   ],
   "source": [
    "def insert_columns(dataset: pd.DataFrame, columns: list[tuple[int, str]]) -> pd.DataFrame:\n",
    "    for column in columns:\n",
    "        dataset.insert(loc=column[0], column=column[1], value=np.nan)\n",
    "    print(f\"Inserted {len(columns)} columns.\\n\")\n",
    "    return dataset\n",
    "insert_columns"
   ]
  },
  {
   "cell_type": "code",
   "execution_count": 4,
   "id": "e67c65ba",
   "metadata": {},
   "outputs": [
    {
     "data": {
      "text/plain": [
       "<function __main__.copy_column_data(dataset: pandas.core.frame.DataFrame, source: str, destination: str) -> pandas.core.frame.DataFrame>"
      ]
     },
     "execution_count": 4,
     "metadata": {},
     "output_type": "execute_result"
    }
   ],
   "source": [
    "def copy_column_data(dataset: pd.DataFrame, source: str, destination: str) -> pd.DataFrame:\n",
    "    dataset[destination] = dataset[source]\n",
    "    print(f\"Copied data from {source} to {destination}.\\n\")\n",
    "    return dataset\n",
    "copy_column_data"
   ]
  },
  {
   "cell_type": "code",
   "execution_count": 5,
   "id": "9ab0fd60",
   "metadata": {},
   "outputs": [
    {
     "data": {
      "text/plain": [
       "<function __main__.lower_case_text_columns(dataset: pandas.core.frame.DataFrame, columns: list[str]) -> pandas.core.frame.DataFrame>"
      ]
     },
     "execution_count": 5,
     "metadata": {},
     "output_type": "execute_result"
    }
   ],
   "source": [
    "def lower_case_text_columns(dataset: pd.DataFrame, columns: list[str],) -> pd.DataFrame:\n",
    "    for column in columns:\n",
    "        try:\n",
    "            dataset[column] = [text.lower() for text in dataset[column]]\n",
    "        except Exception as e:\n",
    "            print(e)\n",
    "    print(f\"Lowercased words in {columns}.\\n\")\n",
    "    return dataset\n",
    "lower_case_text_columns"
   ]
  },
  {
   "cell_type": "code",
   "execution_count": 6,
   "id": "30219a39",
   "metadata": {},
   "outputs": [
    {
     "data": {
      "text/plain": [
       "<function __main__.remove_pattern(dataset: pandas.core.frame.DataFrame, pattern: str, column: str) -> pandas.core.frame.DataFrame>"
      ]
     },
     "execution_count": 6,
     "metadata": {},
     "output_type": "execute_result"
    }
   ],
   "source": [
    "def remove_pattern(dataset: pd.DataFrame, pattern: str, column: str,) -> pd.DataFrame:\n",
    "    try:\n",
    "        dataset[column] = [re.sub(pattern=pattern, repl=\"\", string=text) for text in dataset[column]]\n",
    "    except Exception as e:\n",
    "        print(e)\n",
    "    print(f\"Removed pattern: {pattern}\\n\")\n",
    "    return dataset\n",
    "remove_pattern"
   ]
  },
  {
   "cell_type": "code",
   "execution_count": 7,
   "id": "ecc32483",
   "metadata": {},
   "outputs": [
    {
     "data": {
      "text/plain": [
       "<function __main__.remove_words(dataset: pandas.core.frame.DataFrame, words_list: list[str], column: str) -> pandas.core.frame.DataFrame>"
      ]
     },
     "execution_count": 7,
     "metadata": {},
     "output_type": "execute_result"
    }
   ],
   "source": [
    "def remove_words(dataset: pd.DataFrame, words_list: list[str], column: str,) -> pd.DataFrame:\n",
    "    dataset[column] = [\" \".join([word for word in text.split() if word not in words_list]) for text in dataset[column]]\n",
    "    print(\"Removed words.\\n\")\n",
    "    return dataset\n",
    "remove_words"
   ]
  },
  {
   "cell_type": "code",
   "execution_count": 8,
   "id": "159d4f5f",
   "metadata": {},
   "outputs": [
    {
     "data": {
      "text/plain": [
       "<function __main__.tokenize_text(dataset: pandas.core.frame.DataFrame, column: str) -> pandas.core.frame.DataFrame>"
      ]
     },
     "execution_count": 8,
     "metadata": {},
     "output_type": "execute_result"
    }
   ],
   "source": [
    "def tokenize_text(dataset: pd.DataFrame, column: str,) -> pd.DataFrame:\n",
    "    dataset[column] = [word_tokenize(text) for text in dataset[column]]\n",
    "    print(f\"Tokenized text from column: {column}\\n\")\n",
    "    return dataset\n",
    "tokenize_text"
   ]
  },
  {
   "cell_type": "code",
   "execution_count": 9,
   "id": "90cebdaf",
   "metadata": {},
   "outputs": [
    {
     "data": {
      "text/plain": [
       "<function __main__.lemmatize_words(dataset: pandas.core.frame.DataFrame, column: str) -> pandas.core.frame.DataFrame>"
      ]
     },
     "execution_count": 9,
     "metadata": {},
     "output_type": "execute_result"
    }
   ],
   "source": [
    "def lemmatize_words(dataset: pd.DataFrame, column: str,) -> pd.DataFrame:\n",
    "    lemmitizer = WordNetLemmatizer()\n",
    "    final_texts = []\n",
    "    for text in dataset[column]:\n",
    "        lemmatized_text = []\n",
    "        for word in text:\n",
    "            lemmatized_text.append(lemmitizer.lemmatize(word))\n",
    "        final_texts.append(lemmatized_text)\n",
    "    dataset[column] = final_texts\n",
    "    print(f\"Lemmatiezed text from column: {column}\\n\")\n",
    "    return dataset\n",
    "lemmatize_words"
   ]
  },
  {
   "cell_type": "code",
   "execution_count": 10,
   "id": "7bdbdadd",
   "metadata": {},
   "outputs": [
    {
     "data": {
      "text/plain": [
       "<function __main__.stem_words(dataset: pandas.core.frame.DataFrame, column: str) -> pandas.core.frame.DataFrame>"
      ]
     },
     "execution_count": 10,
     "metadata": {},
     "output_type": "execute_result"
    }
   ],
   "source": [
    "def stem_words(dataset: pd.DataFrame, column: str,) -> pd.DataFrame:\n",
    "    stemmer = PorterStemmer()\n",
    "    dataset[column] = [stemmer.stem(word) for text in dataset[column] for word in text]\n",
    "    print(f\"Stemmed text from column: {column}\\n\")\n",
    "    return dataset\n",
    "stem_words"
   ]
  },
  {
   "cell_type": "code",
   "execution_count": 11,
   "id": "1a0b6f55",
   "metadata": {},
   "outputs": [
    {
     "data": {
      "text/plain": [
       "<function __main__.sentiment_analysis(dataset: pandas.core.frame.DataFrame, text_column: str, label_column: str, model_name: str) -> pandas.core.frame.DataFrame>"
      ]
     },
     "execution_count": 11,
     "metadata": {},
     "output_type": "execute_result"
    }
   ],
   "source": [
    "def sentiment_analysis(dataset: pd.DataFrame, text_column: str, label_column: str, model_name: str) -> pd.DataFrame:\n",
    "    sentiment_pipeline = pipeline('sentiment-analysis', model=model_name, device=0)\n",
    "    tweets = dataset[text_column].values.tolist()\n",
    "    sentiment_list = sentiment_pipeline(tweets, batch_size=128)\n",
    "    dataset[label_column] = [sent['label'] for sent in sentiment_list]\n",
    "    return dataset\n",
    "sentiment_analysis"
   ]
  },
  {
   "cell_type": "markdown",
   "id": "3e8e0f68",
   "metadata": {},
   "source": [
    "## Data analysis\n",
    "In this step I will generate a few graphs to visualize the patterns from the data."
   ]
  },
  {
   "cell_type": "code",
   "execution_count": 12,
   "id": "8f9a70fe",
   "metadata": {},
   "outputs": [],
   "source": [
    "import seaborn as sns\n",
    "import matplotlib.pyplot as plt\n",
    "pd.plotting.register_matplotlib_converters()\n",
    "words = stopwords.words('english')"
   ]
  },
  {
   "cell_type": "markdown",
   "id": "99578329",
   "metadata": {},
   "source": [
    "Before generating the graphs, the data will be processed so it will be easier to get the patterns from it."
   ]
  },
  {
   "cell_type": "code",
   "execution_count": 13,
   "id": "58bbd198",
   "metadata": {},
   "outputs": [
    {
     "name": "stdout",
     "output_type": "stream",
     "text": [
      "Inserted 2 columns.\n",
      "\n",
      "Copied data from text to preprocessed.\n",
      "\n",
      "Lowercased words in ['preprocessed'].\n",
      "\n",
      "Removed pattern: https?://\\S\n",
      "\n",
      "Removed pattern: [^\\s\\w]\n",
      "\n"
     ]
    },
    {
     "name": "stderr",
     "output_type": "stream",
     "text": [
      "emoji is not installed, thus not converting emoticons or emojis into text. Install emoji: pip3 install emoji==0.6.0\n",
      "Device set to use cuda:0\n"
     ]
    },
    {
     "name": "stdout",
     "output_type": "stream",
     "text": [
      "Removed words.\n",
      "\n",
      "Tokenized text from column: preprocessed\n",
      "\n",
      "Lemmatiezed text from column: preprocessed\n",
      "\n"
     ]
    },
    {
     "data": {
      "text/html": [
       "<div>\n",
       "<style scoped>\n",
       "    .dataframe tbody tr th:only-of-type {\n",
       "        vertical-align: middle;\n",
       "    }\n",
       "\n",
       "    .dataframe tbody tr th {\n",
       "        vertical-align: top;\n",
       "    }\n",
       "\n",
       "    .dataframe thead th {\n",
       "        text-align: right;\n",
       "    }\n",
       "</style>\n",
       "<table border=\"1\" class=\"dataframe\">\n",
       "  <thead>\n",
       "    <tr style=\"text-align: right;\">\n",
       "      <th></th>\n",
       "      <th>keyword</th>\n",
       "      <th>location</th>\n",
       "      <th>text</th>\n",
       "      <th>preprocessed</th>\n",
       "      <th>sentiment</th>\n",
       "      <th>target</th>\n",
       "    </tr>\n",
       "    <tr>\n",
       "      <th>id</th>\n",
       "      <th></th>\n",
       "      <th></th>\n",
       "      <th></th>\n",
       "      <th></th>\n",
       "      <th></th>\n",
       "      <th></th>\n",
       "    </tr>\n",
       "  </thead>\n",
       "  <tbody>\n",
       "    <tr>\n",
       "      <th>1</th>\n",
       "      <td>NaN</td>\n",
       "      <td>NaN</td>\n",
       "      <td>Our Deeds are the Reason of this #earthquake M...</td>\n",
       "      <td>[deed, reason, earthquake, may, allah, forgive...</td>\n",
       "      <td>NEU</td>\n",
       "      <td>1</td>\n",
       "    </tr>\n",
       "    <tr>\n",
       "      <th>4</th>\n",
       "      <td>NaN</td>\n",
       "      <td>NaN</td>\n",
       "      <td>Forest fire near La Ronge Sask. Canada</td>\n",
       "      <td>[forest, fire, near, la, ronge, sask, canada]</td>\n",
       "      <td>NEU</td>\n",
       "      <td>1</td>\n",
       "    </tr>\n",
       "    <tr>\n",
       "      <th>5</th>\n",
       "      <td>NaN</td>\n",
       "      <td>NaN</td>\n",
       "      <td>All residents asked to 'shelter in place' are ...</td>\n",
       "      <td>[resident, asked, shelter, place, notified, of...</td>\n",
       "      <td>NEU</td>\n",
       "      <td>1</td>\n",
       "    </tr>\n",
       "    <tr>\n",
       "      <th>6</th>\n",
       "      <td>NaN</td>\n",
       "      <td>NaN</td>\n",
       "      <td>13,000 people receive #wildfires evacuation or...</td>\n",
       "      <td>[13000, people, receive, wildfire, evacuation,...</td>\n",
       "      <td>NEU</td>\n",
       "      <td>1</td>\n",
       "    </tr>\n",
       "    <tr>\n",
       "      <th>7</th>\n",
       "      <td>NaN</td>\n",
       "      <td>NaN</td>\n",
       "      <td>Just got sent this photo from Ruby #Alaska as ...</td>\n",
       "      <td>[got, sent, photo, ruby, alaska, smoke, wildfi...</td>\n",
       "      <td>NEU</td>\n",
       "      <td>1</td>\n",
       "    </tr>\n",
       "  </tbody>\n",
       "</table>\n",
       "</div>"
      ],
      "text/plain": [
       "   keyword location                                               text  \\\n",
       "id                                                                       \n",
       "1      NaN      NaN  Our Deeds are the Reason of this #earthquake M...   \n",
       "4      NaN      NaN             Forest fire near La Ronge Sask. Canada   \n",
       "5      NaN      NaN  All residents asked to 'shelter in place' are ...   \n",
       "6      NaN      NaN  13,000 people receive #wildfires evacuation or...   \n",
       "7      NaN      NaN  Just got sent this photo from Ruby #Alaska as ...   \n",
       "\n",
       "                                         preprocessed sentiment  target  \n",
       "id                                                                       \n",
       "1   [deed, reason, earthquake, may, allah, forgive...       NEU       1  \n",
       "4       [forest, fire, near, la, ronge, sask, canada]       NEU       1  \n",
       "5   [resident, asked, shelter, place, notified, of...       NEU       1  \n",
       "6   [13000, people, receive, wildfire, evacuation,...       NEU       1  \n",
       "7   [got, sent, photo, ruby, alaska, smoke, wildfi...       NEU       1  "
      ]
     },
     "execution_count": 13,
     "metadata": {},
     "output_type": "execute_result"
    }
   ],
   "source": [
    "train_dataset = pd.read_csv(r'data\\train.csv', index_col=0)\n",
    "train_1 = (train_dataset.pipe(insert_columns, columns=[(3, 'preprocessed'), (4, 'sentiment')])\n",
    "                 .pipe(copy_column_data, source='text', destination='preprocessed')\n",
    "                 .pipe(lower_case_text_columns, columns=['preprocessed'])\n",
    "                 .pipe(remove_pattern, pattern=r\"https?://\\S\", column='preprocessed')\n",
    "                 .pipe(remove_pattern, pattern=r\"[^\\s\\w]\", column='preprocessed') \n",
    "                 .pipe(sentiment_analysis, text_column='preprocessed', label_column='sentiment', model_name='finiteautomata/bertweet-base-sentiment-analysis') \n",
    "                 .pipe(remove_words, words_list=words, column='preprocessed') \n",
    "                 .pipe(tokenize_text, column='preprocessed') \n",
    "                 .pipe(lemmatize_words, column='preprocessed') \n",
    "            )\n",
    "train_1.head(5)"
   ]
  },
  {
   "cell_type": "markdown",
   "id": "3a1f9eef",
   "metadata": {},
   "source": [
    "### Sentiment distribution"
   ]
  },
  {
   "cell_type": "code",
   "execution_count": 14,
   "id": "01265126",
   "metadata": {},
   "outputs": [
    {
     "name": "stderr",
     "output_type": "stream",
     "text": [
      "C:\\Users\\teodo\\AppData\\Local\\Temp\\ipykernel_34192\\3767133524.py:3: UserWarning: The palette list has more values (6) than needed (3), which may not be intended.\n",
      "  sns.countplot(\n"
     ]
    },
    {
     "data": {
      "text/plain": [
       "<Axes: xlabel='target', ylabel='count'>"
      ]
     },
     "execution_count": 14,
     "metadata": {},
     "output_type": "execute_result"
    },
    {
     "data": {
      "image/png": "[encoded data removed]",
      "text/plain": [
       "<Figure size 640x480 with 1 Axes>"
      ]
     },
     "metadata": {},
     "output_type": "display_data"
    }
   ],
   "source": [
    "sent_dist = train_1.loc[:, ['sentiment', 'target']]\n",
    "plt.figure()\n",
    "sns.countplot(\n",
    "    x='target',\n",
    "    hue='sentiment',\n",
    "    palette=sns.color_palette('hls'),\n",
    "    data=sent_dist\n",
    ")\n"
   ]
  },
  {
   "cell_type": "markdown",
   "id": "584ce209",
   "metadata": {},
   "source": [
    "The sentiment analysis done by the `finiteautomata/bertweet-base-sentiment-analysis` shows that the tweets that describe natural disasters have either a negative sentiment or a neutral one, few having a positive one. On the other hand, the tweets that do not describe natural disasters tend to have a neutral sentiment. Although both categories have almost the same amount of negative tweets, the positive tweets tend to not describe a natural disaster."
   ]
  },
  {
   "cell_type": "markdown",
   "id": "2406126e",
   "metadata": {},
   "source": [
    "I'm going to create a new panas pipe, but this time the sentiment analysis will be done by `tabularisai/multilingual-sentiment-analysis`. This model has 5 labels: Very Negative, Negative, Neutral, Positive, Very Positive."
   ]
  },
  {
   "cell_type": "code",
   "execution_count": 15,
   "id": "db6c6f79",
   "metadata": {},
   "outputs": [
    {
     "name": "stdout",
     "output_type": "stream",
     "text": [
      "Inserted 2 columns.\n",
      "\n",
      "Copied data from text to preprocessed_2.\n",
      "\n",
      "Lowercased words in ['preprocessed_2'].\n",
      "\n",
      "Removed pattern: https?://\\S\n",
      "\n",
      "Removed pattern: [^\\s\\w]\n",
      "\n"
     ]
    },
    {
     "name": "stderr",
     "output_type": "stream",
     "text": [
      "Device set to use cuda:0\n"
     ]
    },
    {
     "name": "stdout",
     "output_type": "stream",
     "text": [
      "Removed words.\n",
      "\n",
      "Tokenized text from column: preprocessed_2\n",
      "\n",
      "Lemmatiezed text from column: preprocessed_2\n",
      "\n"
     ]
    },
    {
     "data": {
      "text/html": [
       "<div>\n",
       "<style scoped>\n",
       "    .dataframe tbody tr th:only-of-type {\n",
       "        vertical-align: middle;\n",
       "    }\n",
       "\n",
       "    .dataframe tbody tr th {\n",
       "        vertical-align: top;\n",
       "    }\n",
       "\n",
       "    .dataframe thead th {\n",
       "        text-align: right;\n",
       "    }\n",
       "</style>\n",
       "<table border=\"1\" class=\"dataframe\">\n",
       "  <thead>\n",
       "    <tr style=\"text-align: right;\">\n",
       "      <th></th>\n",
       "      <th>keyword</th>\n",
       "      <th>location</th>\n",
       "      <th>text</th>\n",
       "      <th>target</th>\n",
       "      <th>preprocessed_2</th>\n",
       "      <th>sentiment_2</th>\n",
       "    </tr>\n",
       "    <tr>\n",
       "      <th>id</th>\n",
       "      <th></th>\n",
       "      <th></th>\n",
       "      <th></th>\n",
       "      <th></th>\n",
       "      <th></th>\n",
       "      <th></th>\n",
       "    </tr>\n",
       "  </thead>\n",
       "  <tbody>\n",
       "    <tr>\n",
       "      <th>1</th>\n",
       "      <td>NaN</td>\n",
       "      <td>NaN</td>\n",
       "      <td>Our Deeds are the Reason of this #earthquake M...</td>\n",
       "      <td>1</td>\n",
       "      <td>[deed, reason, earthquake, may, allah, forgive...</td>\n",
       "      <td>Very Positive</td>\n",
       "    </tr>\n",
       "    <tr>\n",
       "      <th>4</th>\n",
       "      <td>NaN</td>\n",
       "      <td>NaN</td>\n",
       "      <td>Forest fire near La Ronge Sask. Canada</td>\n",
       "      <td>1</td>\n",
       "      <td>[forest, fire, near, la, ronge, sask, canada]</td>\n",
       "      <td>Neutral</td>\n",
       "    </tr>\n",
       "    <tr>\n",
       "      <th>5</th>\n",
       "      <td>NaN</td>\n",
       "      <td>NaN</td>\n",
       "      <td>All residents asked to 'shelter in place' are ...</td>\n",
       "      <td>1</td>\n",
       "      <td>[resident, asked, shelter, place, notified, of...</td>\n",
       "      <td>Neutral</td>\n",
       "    </tr>\n",
       "    <tr>\n",
       "      <th>6</th>\n",
       "      <td>NaN</td>\n",
       "      <td>NaN</td>\n",
       "      <td>13,000 people receive #wildfires evacuation or...</td>\n",
       "      <td>1</td>\n",
       "      <td>[13000, people, receive, wildfire, evacuation,...</td>\n",
       "      <td>Neutral</td>\n",
       "    </tr>\n",
       "    <tr>\n",
       "      <th>7</th>\n",
       "      <td>NaN</td>\n",
       "      <td>NaN</td>\n",
       "      <td>Just got sent this photo from Ruby #Alaska as ...</td>\n",
       "      <td>1</td>\n",
       "      <td>[got, sent, photo, ruby, alaska, smoke, wildfi...</td>\n",
       "      <td>Neutral</td>\n",
       "    </tr>\n",
       "  </tbody>\n",
       "</table>\n",
       "</div>"
      ],
      "text/plain": [
       "   keyword location                                               text  \\\n",
       "id                                                                       \n",
       "1      NaN      NaN  Our Deeds are the Reason of this #earthquake M...   \n",
       "4      NaN      NaN             Forest fire near La Ronge Sask. Canada   \n",
       "5      NaN      NaN  All residents asked to 'shelter in place' are ...   \n",
       "6      NaN      NaN  13,000 people receive #wildfires evacuation or...   \n",
       "7      NaN      NaN  Just got sent this photo from Ruby #Alaska as ...   \n",
       "\n",
       "    target                                     preprocessed_2    sentiment_2  \n",
       "id                                                                            \n",
       "1        1  [deed, reason, earthquake, may, allah, forgive...  Very Positive  \n",
       "4        1      [forest, fire, near, la, ronge, sask, canada]        Neutral  \n",
       "5        1  [resident, asked, shelter, place, notified, of...        Neutral  \n",
       "6        1  [13000, people, receive, wildfire, evacuation,...        Neutral  \n",
       "7        1  [got, sent, photo, ruby, alaska, smoke, wildfi...        Neutral  "
      ]
     },
     "execution_count": 15,
     "metadata": {},
     "output_type": "execute_result"
    }
   ],
   "source": [
    "train_dataset = pd.read_csv(r'data\\train.csv', index_col=0)\n",
    "train_2 = (train_dataset.pipe(insert_columns, columns=[(4, 'preprocessed_2'), (5, 'sentiment_2')])\n",
    "                 .pipe(copy_column_data, source='text', destination='preprocessed_2')\n",
    "                 .pipe(lower_case_text_columns, columns=['preprocessed_2'])\n",
    "                 .pipe(remove_pattern, pattern=r\"https?://\\S\", column='preprocessed_2')\n",
    "                 .pipe(remove_pattern, pattern=r\"[^\\s\\w]\", column='preprocessed_2') \n",
    "                 .pipe(sentiment_analysis, text_column='preprocessed_2', label_column='sentiment_2', model_name='tabularisai/multilingual-sentiment-analysis') \n",
    "                 .pipe(remove_words, words_list=words, column='preprocessed_2') \n",
    "                 .pipe(tokenize_text, column='preprocessed_2') \n",
    "                 .pipe(lemmatize_words, column='preprocessed_2') \n",
    "            )\n",
    "train_2.head(5)"
   ]
  },
  {
   "cell_type": "code",
   "execution_count": 16,
   "id": "cc05bc6d",
   "metadata": {},
   "outputs": [
    {
     "name": "stderr",
     "output_type": "stream",
     "text": [
      "C:\\Users\\teodo\\AppData\\Local\\Temp\\ipykernel_34192\\1213547169.py:3: UserWarning: The palette list has more values (6) than needed (5), which may not be intended.\n",
      "  sns.countplot(\n"
     ]
    },
    {
     "data": {
      "text/plain": [
       "<Axes: xlabel='target', ylabel='count'>"
      ]
     },
     "execution_count": 16,
     "metadata": {},
     "output_type": "execute_result"
    },
    {
     "data": {
      "image/png": "[encoded data removed]",
      "text/plain": [
       "<Figure size 640x480 with 1 Axes>"
      ]
     },
     "metadata": {},
     "output_type": "display_data"
    }
   ],
   "source": [
    "sent_dist = train_2.loc[:, ['sentiment_2', 'target']]\n",
    "plt.figure()\n",
    "sns.countplot(\n",
    "    x='target',\n",
    "    hue='sentiment_2',\n",
    "    palette=sns.color_palette('hls'),\n",
    "    data=sent_dist\n",
    ")"
   ]
  },
  {
   "cell_type": "markdown",
   "id": "06eb4699",
   "metadata": {},
   "source": [
    "The model `tabularisai/multilingual-sentiment-analysis` shows that both categories have mostly neutral tweets. Also, it seems that here the positive tweets are few among the ones that describe natural disasters.\n",
    "As a conclusion, sentiment analysis can be used in training the model since the tweets that describe natural disasters tend to be neutral or negative, and very rarely positive."
   ]
  },
  {
   "cell_type": "markdown",
   "id": "48090707",
   "metadata": {},
   "source": [
    "### N-grams\n",
    "In this step I will generate some ngrams to see what are the most common phrases found in the dataset."
   ]
  },
  {
   "cell_type": "code",
   "execution_count": 17,
   "id": "fe0f9523",
   "metadata": {},
   "outputs": [
    {
     "data": {
      "text/plain": [
       "Text(0.5, 1.0, 'Top 10 most common 2 word phrases')"
      ]
     },
     "execution_count": 17,
     "metadata": {},
     "output_type": "execute_result"
    },
    {
     "data": {
      "image/png": "[encoded data removed]",
      "text/plain": [
       "<Figure size 640x480 with 1 Axes>"
      ]
     },
     "metadata": {},
     "output_type": "display_data"
    }
   ],
   "source": [
    "data = sum(train_1['preprocessed'], [])\n",
    "ngram_2 = (pd.Series(nltk.ngrams(data, 2)).value_counts())\n",
    "ngram_2 = pd.DataFrame(ngram_2)\n",
    "index_list = []\n",
    "for index in ngram_2.index:\n",
    "    index = str(index)\n",
    "    index = re.sub(r'[^\\s\\w]', \"\", index)\n",
    "    index_list.append(index)\n",
    "ngram_2.index = index_list\n",
    "ngram_2['token'] = index_list\n",
    "plt.figure()\n",
    "sns.barplot(x='count',\n",
    "            y='token',\n",
    "            data=ngram_2.head(10),\n",
    "            hue='token',\n",
    "            orient='h').set_title('Top 10 most common 2 word phrases')"
   ]
  },
  {
   "cell_type": "markdown",
   "id": "8b0c93f0",
   "metadata": {},
   "source": [
    "The graph from above shown that the most frequent bigramns are \"suicide bomber\" and \"burning building\". This could indicate that a lot of the disasters described are related to terrorist attacks and fires."
   ]
  },
  {
   "cell_type": "code",
   "execution_count": 18,
   "id": "678b6fa8",
   "metadata": {},
   "outputs": [
    {
     "data": {
      "text/plain": [
       "Text(0.5, 1.0, 'Top 10 most common 3 word phrases')"
      ]
     },
     "execution_count": 18,
     "metadata": {},
     "output_type": "execute_result"
    },
    {
     "data": {
      "image/png": "[encoded data removed]",
      "text/plain": [
       "<Figure size 640x480 with 1 Axes>"
      ]
     },
     "metadata": {},
     "output_type": "display_data"
    }
   ],
   "source": [
    "ngram_3 = (pd.Series(nltk.ngrams(data, 3)).value_counts())\n",
    "ngram_3 = pd.DataFrame(ngram_3)\n",
    "index_list = []\n",
    "for index in ngram_3.index:\n",
    "    index = str(index)\n",
    "    index = re.sub(r'[^\\s\\w]', \"\", index)\n",
    "    index_list.append(index)\n",
    "ngram_3.index = index_list\n",
    "ngram_3['token'] = index_list\n",
    "plt.figure()\n",
    "sns.barplot(x='count',\n",
    "            y='token',\n",
    "            data=ngram_3.head(10),\n",
    "            hue='token',\n",
    "            orient='h').set_title('Top 10 most common 3 word phrases')"
   ]
  },
  {
   "cell_type": "markdown",
   "id": "6fffa523",
   "metadata": {},
   "source": [
    "The trigams show that a lot of tweets from the dataset are about youtube videos but the ones related to the disasters are suicide bombers, wildfires and destroyed houses in California."
   ]
  },
  {
   "cell_type": "code",
   "execution_count": 19,
   "id": "69353a29",
   "metadata": {},
   "outputs": [
    {
     "data": {
      "text/plain": [
       "Text(0.5, 1.0, 'Top 10 most common 4 word phrases')"
      ]
     },
     "execution_count": 19,
     "metadata": {},
     "output_type": "execute_result"
    },
    {
     "data": {
      "image/png": "[encoded data removed]",
      "text/plain": [
       "<Figure size 640x480 with 1 Axes>"
      ]
     },
     "metadata": {},
     "output_type": "display_data"
    }
   ],
   "source": [
    "ngram_4 = (pd.Series(nltk.ngrams(data, 4)).value_counts())\n",
    "ngram_4 = pd.DataFrame(ngram_4)\n",
    "index_list = []\n",
    "for index in ngram_4.index:\n",
    "    index = str(index)\n",
    "    index = re.sub(r'[^\\s\\w]', \"\", index)\n",
    "    index_list.append(index)\n",
    "ngram_4.index = index_list\n",
    "ngram_4['token'] = index_list\n",
    "plt.figure()\n",
    "sns.barplot(x='count',\n",
    "            y='token',\n",
    "            data=ngram_4.head(10),\n",
    "            hue='token',\n",
    "            orient='h').set_title('Top 10 most common 4 word phrases')"
   ]
  },
  {
   "cell_type": "markdown",
   "id": "9a2c44ce",
   "metadata": {},
   "source": [
    "Again, we see that a lot of tweets describe terrorist attacks, destroyed houses and wildfires."
   ]
  },
  {
   "cell_type": "markdown",
   "id": "712bf9e3",
   "metadata": {},
   "source": [
    "## Creating and training models"
   ]
  },
  {
   "cell_type": "code",
   "execution_count": 20,
   "id": "6516a843",
   "metadata": {},
   "outputs": [],
   "source": [
    "X = [\",\".join(map(str, l)) for l in train_1['preprocessed']]\n",
    "y = train_1['target']"
   ]
  },
  {
   "cell_type": "markdown",
   "id": "a6134453",
   "metadata": {},
   "source": [
    "To transform the words into numbers I will use to methods: bag of words and tf idf."
   ]
  },
  {
   "cell_type": "markdown",
   "id": "8231451d",
   "metadata": {},
   "source": [
    "###  Preparing data - Bag of words"
   ]
  },
  {
   "cell_type": "code",
   "execution_count": 21,
   "id": "a6f2f73a",
   "metadata": {},
   "outputs": [],
   "source": [
    "from sklearn.feature_extraction.text import CountVectorizer\n",
    "from sklearn.model_selection import train_test_split\n",
    "from sklearn.preprocessing import OrdinalEncoder\n",
    "\n",
    "vectorizer = CountVectorizer()\n",
    "vect_fit = vectorizer.fit_transform(X)\n",
    "bog_no_sent = pd.DataFrame(vect_fit.toarray(), columns=vectorizer.get_feature_names_out()) # bag of words without the sentiment analysis\n",
    "bog_no_sent.index = train_1.index\n",
    "\n",
    "bog_sent_1 = bog_no_sent.copy()\n",
    "bog_sent_1['sentiment_'] = train_1.sentiment.values\n",
    "\n",
    "bog_sent_2 = bog_no_sent.copy()\n",
    "bog_sent_2['sentiment_'] = train_2.sentiment_2.values\n",
    "\n",
    "encoder_1 = OrdinalEncoder(categories=[['POS', 'NEU', 'NEG']])\n",
    "encoder_2 = OrdinalEncoder(categories=[['Very Positive', 'Positive', 'Very Negative', 'Negative', 'Neutral']])\n",
    "X_no_sent_train, X_no_sent_valid, y_no_sent_train, y_no_sent_valid = train_test_split(bog_no_sent, y, random_state=0)\n",
    "X_sent_1_train, X_sent_1_valid, y_sent_1_train, y_sent_1_valid = train_test_split(bog_sent_1, y, random_state=1)\n",
    "X_sent_2_train, X_sent_2_valid, y_sent_2_train, y_sent_2_valid = train_test_split(bog_sent_2, y, random_state=2)\n",
    "\n",
    "X_sent_1_train['sentiment_'] = encoder_1.fit_transform(X_sent_1_train[['sentiment_']])\n",
    "X_sent_1_valid['sentiment_'] = encoder_1.transform(X_sent_1_valid[['sentiment_']])\n",
    "\n",
    "X_sent_2_train['sentiment_'] = encoder_2.fit_transform(X_sent_2_train[['sentiment_']])\n",
    "X_sent_2_valid['sentiment_'] = encoder_2.transform(X_sent_2_valid[['sentiment_']])"
   ]
  },
  {
   "cell_type": "markdown",
   "id": "55bcfb03",
   "metadata": {},
   "source": [
    "### Training models with bag of words"
   ]
  },
  {
   "cell_type": "markdown",
   "id": "3f4ba4dd",
   "metadata": {},
   "source": [
    "#### LogisticRegression "
   ]
  },
  {
   "cell_type": "code",
   "execution_count": 22,
   "id": "a9841464",
   "metadata": {},
   "outputs": [
    {
     "name": "stdout",
     "output_type": "stream",
     "text": [
      "Logistic Regression model train without sentiment analysis: 0.8109243697478992\n"
     ]
    }
   ],
   "source": [
    "from sklearn.metrics import accuracy_score\n",
    "from sklearn.linear_model import LogisticRegression\n",
    "\n",
    "no_sent_model = LogisticRegression(random_state=10)\n",
    "no_sent_model.fit(X_no_sent_train, y_no_sent_train)\n",
    "pred_1 = no_sent_model.predict(X_no_sent_valid)\n",
    "accuracy_1 = accuracy_score(y_no_sent_valid, pred_1)\n",
    "print(\"Logistic Regression model train without sentiment analysis:\", accuracy_1)"
   ]
  },
  {
   "cell_type": "code",
   "execution_count": 23,
   "id": "5eaf209d",
   "metadata": {},
   "outputs": [
    {
     "name": "stdout",
     "output_type": "stream",
     "text": [
      "Logistic Regression model training with seniment analysis: 0.7925420168067226\n"
     ]
    }
   ],
   "source": [
    "sent_1_model = LogisticRegression(random_state=20)\n",
    "sent_1_model.fit(X_sent_1_train, y_sent_1_train)\n",
    "pred_2 = sent_1_model.predict(X_sent_1_valid)\n",
    "accuracy_2 = accuracy_score(y_sent_1_valid, pred_2)\n",
    "print(\"Logistic Regression model training with seniment analysis:\", accuracy_2)"
   ]
  },
  {
   "cell_type": "code",
   "execution_count": 24,
   "id": "62382229",
   "metadata": {},
   "outputs": [
    {
     "name": "stdout",
     "output_type": "stream",
     "text": [
      "Logistic Regression model training with seniment analysis: 0.7888655462184874\n"
     ]
    }
   ],
   "source": [
    "sent_2_model = LogisticRegression(random_state=30)\n",
    "sent_2_model.fit(X_sent_2_train, y_sent_2_train)\n",
    "pred_3 = sent_2_model.predict(X_sent_2_valid)\n",
    "accuracy_3 = accuracy_score(y_sent_2_valid, pred_3)\n",
    "print(\"Logistic Regression model training with seniment analysis:\", accuracy_3)"
   ]
  },
  {
   "cell_type": "markdown",
   "id": "b2244cc3",
   "metadata": {},
   "source": [
    "Looking at the acurracy scores from above we can say that Logistic Regression model was more accurate without sentiment analysis"
   ]
  },
  {
   "cell_type": "markdown",
   "id": "0c75c335",
   "metadata": {},
   "source": [
    "#### Linear Support Vector Machine"
   ]
  },
  {
   "cell_type": "code",
   "execution_count": 25,
   "id": "ee56fbdb",
   "metadata": {},
   "outputs": [
    {
     "name": "stdout",
     "output_type": "stream",
     "text": [
      "Linear Support Vector Machine model without sentiment analysis: 0.7899159663865546\n"
     ]
    }
   ],
   "source": [
    "from sklearn.linear_model import SGDClassifier\n",
    "\n",
    "svm_model = SGDClassifier()\n",
    "svm_model.fit(X_no_sent_train, y_no_sent_train)\n",
    "pred_4 = svm_model.predict(X_no_sent_valid)\n",
    "accuracy_4 = accuracy_score(y_no_sent_valid, pred_4)\n",
    "print('Linear Support Vector Machine model without sentiment analysis:', accuracy_4)"
   ]
  },
  {
   "cell_type": "code",
   "execution_count": 26,
   "id": "a6bc3712",
   "metadata": {},
   "outputs": [
    {
     "name": "stdout",
     "output_type": "stream",
     "text": [
      "Linear Support Vector Machine model with sentiment analysis: 0.7710084033613446\n"
     ]
    }
   ],
   "source": [
    "svm_model_2 = SGDClassifier()\n",
    "svm_model_2.fit(X_sent_1_train, y_sent_1_train)\n",
    "pred_5 = svm_model_2.predict(X_sent_1_valid)\n",
    "accuracy_5 = accuracy_score(y_sent_1_valid, pred_5)\n",
    "print('Linear Support Vector Machine model with sentiment analysis:', accuracy_5)"
   ]
  },
  {
   "cell_type": "code",
   "execution_count": 27,
   "id": "5c5f9e88",
   "metadata": {},
   "outputs": [
    {
     "name": "stdout",
     "output_type": "stream",
     "text": [
      "Linear Support Vector Machine model with sentiment analysis: 0.7584033613445378\n"
     ]
    }
   ],
   "source": [
    "svm_model_3 = SGDClassifier()\n",
    "svm_model_3.fit(X_sent_2_train,y_sent_2_train)\n",
    "pred_6 = svm_model_3.predict(X_sent_2_valid)\n",
    "accuracy_6 = accuracy_score(y_sent_2_valid, pred_6)\n",
    "print('Linear Support Vector Machine model with sentiment analysis:', accuracy_6)"
   ]
  },
  {
   "cell_type": "markdown",
   "id": "ffe04f45",
   "metadata": {},
   "source": [
    "From these models, we can see that only the Logistic Regression model trained with only a bag of words has the highest accuracy."
   ]
  },
  {
   "cell_type": "code",
   "execution_count": 28,
   "id": "43b75c18",
   "metadata": {},
   "outputs": [
    {
     "data": {
      "text/html": [
       "<style>#sk-container-id-1 {\n",
       "  /* Definition of color scheme common for light and dark mode */\n",
       "  --sklearn-color-text: #000;\n",
       "  --sklearn-color-text-muted: #666;\n",
       "  --sklearn-color-line: gray;\n",
       "  /* Definition of color scheme for unfitted estimators */\n",
       "  --sklearn-color-unfitted-level-0: #fff5e6;\n",
       "  --sklearn-color-unfitted-level-1: #f6e4d2;\n",
       "  --sklearn-color-unfitted-level-2: #ffe0b3;\n",
       "  --sklearn-color-unfitted-level-3: chocolate;\n",
       "  /* Definition of color scheme for fitted estimators */\n",
       "  --sklearn-color-fitted-level-0: #f0f8ff;\n",
       "  --sklearn-color-fitted-level-1: #d4ebff;\n",
       "  --sklearn-color-fitted-level-2: #b3dbfd;\n",
       "  --sklearn-color-fitted-level-3: cornflowerblue;\n",
       "\n",
       "  /* Specific color for light theme */\n",
       "  --sklearn-color-text-on-default-background: var(--sg-text-color, var(--theme-code-foreground, var(--jp-content-font-color1, black)));\n",
       "  --sklearn-color-background: var(--sg-background-color, var(--theme-background, var(--jp-layout-color0, white)));\n",
       "  --sklearn-color-border-box: var(--sg-text-color, var(--theme-code-foreground, var(--jp-content-font-color1, black)));\n",
       "  --sklearn-color-icon: #696969;\n",
       "\n",
       "  @media (prefers-color-scheme: dark) {\n",
       "    /* Redefinition of color scheme for dark theme */\n",
       "    --sklearn-color-text-on-default-background: var(--sg-text-color, var(--theme-code-foreground, var(--jp-content-font-color1, white)));\n",
       "    --sklearn-color-background: var(--sg-background-color, var(--theme-background, var(--jp-layout-color0, #111)));\n",
       "    --sklearn-color-border-box: var(--sg-text-color, var(--theme-code-foreground, var(--jp-content-font-color1, white)));\n",
       "    --sklearn-color-icon: #878787;\n",
       "  }\n",
       "}\n",
       "\n",
       "#sk-container-id-1 {\n",
       "  color: var(--sklearn-color-text);\n",
       "}\n",
       "\n",
       "#sk-container-id-1 pre {\n",
       "  padding: 0;\n",
       "}\n",
       "\n",
       "#sk-container-id-1 input.sk-hidden--visually {\n",
       "  border: 0;\n",
       "  clip: rect(1px 1px 1px 1px);\n",
       "  clip: rect(1px, 1px, 1px, 1px);\n",
       "  height: 1px;\n",
       "  margin: -1px;\n",
       "  overflow: hidden;\n",
       "  padding: 0;\n",
       "  position: absolute;\n",
       "  width: 1px;\n",
       "}\n",
       "\n",
       "#sk-container-id-1 div.sk-dashed-wrapped {\n",
       "  border: 1px dashed var(--sklearn-color-line);\n",
       "  margin: 0 0.4em 0.5em 0.4em;\n",
       "  box-sizing: border-box;\n",
       "  padding-bottom: 0.4em;\n",
       "  background-color: var(--sklearn-color-background);\n",
       "}\n",
       "\n",
       "#sk-container-id-1 div.sk-container {\n",
       "  /* jupyter's `normalize.less` sets `[hidden] { display: none; }`\n",
       "     but bootstrap.min.css set `[hidden] { display: none !important; }`\n",
       "     so we also need the `!important` here to be able to override the\n",
       "     default hidden behavior on the sphinx rendered scikit-learn.org.\n",
       "     See: https://github.com/scikit-learn/scikit-learn/issues/21755 */\n",
       "  display: inline-block !important;\n",
       "  position: relative;\n",
       "}\n",
       "\n",
       "#sk-container-id-1 div.sk-text-repr-fallback {\n",
       "  display: none;\n",
       "}\n",
       "\n",
       "div.sk-parallel-item,\n",
       "div.sk-serial,\n",
       "div.sk-item {\n",
       "  /* draw centered vertical line to link estimators */\n",
       "  background-image: linear-gradient(var(--sklearn-color-text-on-default-background), var(--sklearn-color-text-on-default-background));\n",
       "  background-size: 2px 100%;\n",
       "  background-repeat: no-repeat;\n",
       "  background-position: center center;\n",
       "}\n",
       "\n",
       "/* Parallel-specific style estimator block */\n",
       "\n",
       "#sk-container-id-1 div.sk-parallel-item::after {\n",
       "  content: \"\";\n",
       "  width: 100%;\n",
       "  border-bottom: 2px solid var(--sklearn-color-text-on-default-background);\n",
       "  flex-grow: 1;\n",
       "}\n",
       "\n",
       "#sk-container-id-1 div.sk-parallel {\n",
       "  display: flex;\n",
       "  align-items: stretch;\n",
       "  justify-content: center;\n",
       "  background-color: var(--sklearn-color-background);\n",
       "  position: relative;\n",
       "}\n",
       "\n",
       "#sk-container-id-1 div.sk-parallel-item {\n",
       "  display: flex;\n",
       "  flex-direction: column;\n",
       "}\n",
       "\n",
       "#sk-container-id-1 div.sk-parallel-item:first-child::after {\n",
       "  align-self: flex-end;\n",
       "  width: 50%;\n",
       "}\n",
       "\n",
       "#sk-container-id-1 div.sk-parallel-item:last-child::after {\n",
       "  align-self: flex-start;\n",
       "  width: 50%;\n",
       "}\n",
       "\n",
       "#sk-container-id-1 div.sk-parallel-item:only-child::after {\n",
       "  width: 0;\n",
       "}\n",
       "\n",
       "/* Serial-specific style estimator block */\n",
       "\n",
       "#sk-container-id-1 div.sk-serial {\n",
       "  display: flex;\n",
       "  flex-direction: column;\n",
       "  align-items: center;\n",
       "  background-color: var(--sklearn-color-background);\n",
       "  padding-right: 1em;\n",
       "  padding-left: 1em;\n",
       "}\n",
       "\n",
       "\n",
       "/* Toggleable style: style used for estimator/Pipeline/ColumnTransformer box that is\n",
       "clickable and can be expanded/collapsed.\n",
       "- Pipeline and ColumnTransformer use this feature and define the default style\n",
       "- Estimators will overwrite some part of the style using the `sk-estimator` class\n",
       "*/\n",
       "\n",
       "/* Pipeline and ColumnTransformer style (default) */\n",
       "\n",
       "#sk-container-id-1 div.sk-toggleable {\n",
       "  /* Default theme specific background. It is overwritten whether we have a\n",
       "  specific estimator or a Pipeline/ColumnTransformer */\n",
       "  background-color: var(--sklearn-color-background);\n",
       "}\n",
       "\n",
       "/* Toggleable label */\n",
       "#sk-container-id-1 label.sk-toggleable__label {\n",
       "  cursor: pointer;\n",
       "  display: flex;\n",
       "  width: 100%;\n",
       "  margin-bottom: 0;\n",
       "  padding: 0.5em;\n",
       "  box-sizing: border-box;\n",
       "  text-align: center;\n",
       "  align-items: start;\n",
       "  justify-content: space-between;\n",
       "  gap: 0.5em;\n",
       "}\n",
       "\n",
       "#sk-container-id-1 label.sk-toggleable__label .caption {\n",
       "  font-size: 0.6rem;\n",
       "  font-weight: lighter;\n",
       "  color: var(--sklearn-color-text-muted);\n",
       "}\n",
       "\n",
       "#sk-container-id-1 label.sk-toggleable__label-arrow:before {\n",
       "  /* Arrow on the left of the label */\n",
       "  content: \"▸\";\n",
       "  float: left;\n",
       "  margin-right: 0.25em;\n",
       "  color: var(--sklearn-color-icon);\n",
       "}\n",
       "\n",
       "#sk-container-id-1 label.sk-toggleable__label-arrow:hover:before {\n",
       "  color: var(--sklearn-color-text);\n",
       "}\n",
       "\n",
       "/* Toggleable content - dropdown */\n",
       "\n",
       "#sk-container-id-1 div.sk-toggleable__content {\n",
       "  max-height: 0;\n",
       "  max-width: 0;\n",
       "  overflow: hidden;\n",
       "  text-align: left;\n",
       "  /* unfitted */\n",
       "  background-color: var(--sklearn-color-unfitted-level-0);\n",
       "}\n",
       "\n",
       "#sk-container-id-1 div.sk-toggleable__content.fitted {\n",
       "  /* fitted */\n",
       "  background-color: var(--sklearn-color-fitted-level-0);\n",
       "}\n",
       "\n",
       "#sk-container-id-1 div.sk-toggleable__content pre {\n",
       "  margin: 0.2em;\n",
       "  border-radius: 0.25em;\n",
       "  color: var(--sklearn-color-text);\n",
       "  /* unfitted */\n",
       "  background-color: var(--sklearn-color-unfitted-level-0);\n",
       "}\n",
       "\n",
       "#sk-container-id-1 div.sk-toggleable__content.fitted pre {\n",
       "  /* unfitted */\n",
       "  background-color: var(--sklearn-color-fitted-level-0);\n",
       "}\n",
       "\n",
       "#sk-container-id-1 input.sk-toggleable__control:checked~div.sk-toggleable__content {\n",
       "  /* Expand drop-down */\n",
       "  max-height: 200px;\n",
       "  max-width: 100%;\n",
       "  overflow: auto;\n",
       "}\n",
       "\n",
       "#sk-container-id-1 input.sk-toggleable__control:checked~label.sk-toggleable__label-arrow:before {\n",
       "  content: \"▾\";\n",
       "}\n",
       "\n",
       "/* Pipeline/ColumnTransformer-specific style */\n",
       "\n",
       "#sk-container-id-1 div.sk-label input.sk-toggleable__control:checked~label.sk-toggleable__label {\n",
       "  color: var(--sklearn-color-text);\n",
       "  background-color: var(--sklearn-color-unfitted-level-2);\n",
       "}\n",
       "\n",
       "#sk-container-id-1 div.sk-label.fitted input.sk-toggleable__control:checked~label.sk-toggleable__label {\n",
       "  background-color: var(--sklearn-color-fitted-level-2);\n",
       "}\n",
       "\n",
       "/* Estimator-specific style */\n",
       "\n",
       "/* Colorize estimator box */\n",
       "#sk-container-id-1 div.sk-estimator input.sk-toggleable__control:checked~label.sk-toggleable__label {\n",
       "  /* unfitted */\n",
       "  background-color: var(--sklearn-color-unfitted-level-2);\n",
       "}\n",
       "\n",
       "#sk-container-id-1 div.sk-estimator.fitted input.sk-toggleable__control:checked~label.sk-toggleable__label {\n",
       "  /* fitted */\n",
       "  background-color: var(--sklearn-color-fitted-level-2);\n",
       "}\n",
       "\n",
       "#sk-container-id-1 div.sk-label label.sk-toggleable__label,\n",
       "#sk-container-id-1 div.sk-label label {\n",
       "  /* The background is the default theme color */\n",
       "  color: var(--sklearn-color-text-on-default-background);\n",
       "}\n",
       "\n",
       "/* On hover, darken the color of the background */\n",
       "#sk-container-id-1 div.sk-label:hover label.sk-toggleable__label {\n",
       "  color: var(--sklearn-color-text);\n",
       "  background-color: var(--sklearn-color-unfitted-level-2);\n",
       "}\n",
       "\n",
       "/* Label box, darken color on hover, fitted */\n",
       "#sk-container-id-1 div.sk-label.fitted:hover label.sk-toggleable__label.fitted {\n",
       "  color: var(--sklearn-color-text);\n",
       "  background-color: var(--sklearn-color-fitted-level-2);\n",
       "}\n",
       "\n",
       "/* Estimator label */\n",
       "\n",
       "#sk-container-id-1 div.sk-label label {\n",
       "  font-family: monospace;\n",
       "  font-weight: bold;\n",
       "  display: inline-block;\n",
       "  line-height: 1.2em;\n",
       "}\n",
       "\n",
       "#sk-container-id-1 div.sk-label-container {\n",
       "  text-align: center;\n",
       "}\n",
       "\n",
       "/* Estimator-specific */\n",
       "#sk-container-id-1 div.sk-estimator {\n",
       "  font-family: monospace;\n",
       "  border: 1px dotted var(--sklearn-color-border-box);\n",
       "  border-radius: 0.25em;\n",
       "  box-sizing: border-box;\n",
       "  margin-bottom: 0.5em;\n",
       "  /* unfitted */\n",
       "  background-color: var(--sklearn-color-unfitted-level-0);\n",
       "}\n",
       "\n",
       "#sk-container-id-1 div.sk-estimator.fitted {\n",
       "  /* fitted */\n",
       "  background-color: var(--sklearn-color-fitted-level-0);\n",
       "}\n",
       "\n",
       "/* on hover */\n",
       "#sk-container-id-1 div.sk-estimator:hover {\n",
       "  /* unfitted */\n",
       "  background-color: var(--sklearn-color-unfitted-level-2);\n",
       "}\n",
       "\n",
       "#sk-container-id-1 div.sk-estimator.fitted:hover {\n",
       "  /* fitted */\n",
       "  background-color: var(--sklearn-color-fitted-level-2);\n",
       "}\n",
       "\n",
       "/* Specification for estimator info (e.g. \"i\" and \"?\") */\n",
       "\n",
       "/* Common style for \"i\" and \"?\" */\n",
       "\n",
       ".sk-estimator-doc-link,\n",
       "a:link.sk-estimator-doc-link,\n",
       "a:visited.sk-estimator-doc-link {\n",
       "  float: right;\n",
       "  font-size: smaller;\n",
       "  line-height: 1em;\n",
       "  font-family: monospace;\n",
       "  background-color: var(--sklearn-color-background);\n",
       "  border-radius: 1em;\n",
       "  height: 1em;\n",
       "  width: 1em;\n",
       "  text-decoration: none !important;\n",
       "  margin-left: 0.5em;\n",
       "  text-align: center;\n",
       "  /* unfitted */\n",
       "  border: var(--sklearn-color-unfitted-level-1) 1pt solid;\n",
       "  color: var(--sklearn-color-unfitted-level-1);\n",
       "}\n",
       "\n",
       ".sk-estimator-doc-link.fitted,\n",
       "a:link.sk-estimator-doc-link.fitted,\n",
       "a:visited.sk-estimator-doc-link.fitted {\n",
       "  /* fitted */\n",
       "  border: var(--sklearn-color-fitted-level-1) 1pt solid;\n",
       "  color: var(--sklearn-color-fitted-level-1);\n",
       "}\n",
       "\n",
       "/* On hover */\n",
       "div.sk-estimator:hover .sk-estimator-doc-link:hover,\n",
       ".sk-estimator-doc-link:hover,\n",
       "div.sk-label-container:hover .sk-estimator-doc-link:hover,\n",
       ".sk-estimator-doc-link:hover {\n",
       "  /* unfitted */\n",
       "  background-color: var(--sklearn-color-unfitted-level-3);\n",
       "  color: var(--sklearn-color-background);\n",
       "  text-decoration: none;\n",
       "}\n",
       "\n",
       "div.sk-estimator.fitted:hover .sk-estimator-doc-link.fitted:hover,\n",
       ".sk-estimator-doc-link.fitted:hover,\n",
       "div.sk-label-container:hover .sk-estimator-doc-link.fitted:hover,\n",
       ".sk-estimator-doc-link.fitted:hover {\n",
       "  /* fitted */\n",
       "  background-color: var(--sklearn-color-fitted-level-3);\n",
       "  color: var(--sklearn-color-background);\n",
       "  text-decoration: none;\n",
       "}\n",
       "\n",
       "/* Span, style for the box shown on hovering the info icon */\n",
       ".sk-estimator-doc-link span {\n",
       "  display: none;\n",
       "  z-index: 9999;\n",
       "  position: relative;\n",
       "  font-weight: normal;\n",
       "  right: .2ex;\n",
       "  padding: .5ex;\n",
       "  margin: .5ex;\n",
       "  width: min-content;\n",
       "  min-width: 20ex;\n",
       "  max-width: 50ex;\n",
       "  color: var(--sklearn-color-text);\n",
       "  box-shadow: 2pt 2pt 4pt #999;\n",
       "  /* unfitted */\n",
       "  background: var(--sklearn-color-unfitted-level-0);\n",
       "  border: .5pt solid var(--sklearn-color-unfitted-level-3);\n",
       "}\n",
       "\n",
       ".sk-estimator-doc-link.fitted span {\n",
       "  /* fitted */\n",
       "  background: var(--sklearn-color-fitted-level-0);\n",
       "  border: var(--sklearn-color-fitted-level-3);\n",
       "}\n",
       "\n",
       ".sk-estimator-doc-link:hover span {\n",
       "  display: block;\n",
       "}\n",
       "\n",
       "/* \"?\"-specific style due to the `<a>` HTML tag */\n",
       "\n",
       "#sk-container-id-1 a.estimator_doc_link {\n",
       "  float: right;\n",
       "  font-size: 1rem;\n",
       "  line-height: 1em;\n",
       "  font-family: monospace;\n",
       "  background-color: var(--sklearn-color-background);\n",
       "  border-radius: 1rem;\n",
       "  height: 1rem;\n",
       "  width: 1rem;\n",
       "  text-decoration: none;\n",
       "  /* unfitted */\n",
       "  color: var(--sklearn-color-unfitted-level-1);\n",
       "  border: var(--sklearn-color-unfitted-level-1) 1pt solid;\n",
       "}\n",
       "\n",
       "#sk-container-id-1 a.estimator_doc_link.fitted {\n",
       "  /* fitted */\n",
       "  border: var(--sklearn-color-fitted-level-1) 1pt solid;\n",
       "  color: var(--sklearn-color-fitted-level-1);\n",
       "}\n",
       "\n",
       "/* On hover */\n",
       "#sk-container-id-1 a.estimator_doc_link:hover {\n",
       "  /* unfitted */\n",
       "  background-color: var(--sklearn-color-unfitted-level-3);\n",
       "  color: var(--sklearn-color-background);\n",
       "  text-decoration: none;\n",
       "}\n",
       "\n",
       "#sk-container-id-1 a.estimator_doc_link.fitted:hover {\n",
       "  /* fitted */\n",
       "  background-color: var(--sklearn-color-fitted-level-3);\n",
       "}\n",
       "</style><div id=\"sk-container-id-1\" class=\"sk-top-container\"><div class=\"sk-text-repr-fallback\"><pre>LogisticRegression(random_state=10)</pre><b>In a Jupyter environment, please rerun this cell to show the HTML representation or trust the notebook. <br />On GitHub, the HTML representation is unable to render, please try loading this page with nbviewer.org.</b></div><div class=\"sk-container\" hidden><div class=\"sk-item\"><div class=\"sk-estimator fitted sk-toggleable\"><input class=\"sk-toggleable__control sk-hidden--visually\" id=\"sk-estimator-id-1\" type=\"checkbox\" checked><label for=\"sk-estimator-id-1\" class=\"sk-toggleable__label fitted sk-toggleable__label-arrow\"><div><div>LogisticRegression</div></div><div><a class=\"sk-estimator-doc-link fitted\" rel=\"noreferrer\" target=\"_blank\" href=\"https://scikit-learn.org/1.6/modules/generated/sklearn.linear_model.LogisticRegression.html\">?<span>Documentation for LogisticRegression</span></a><span class=\"sk-estimator-doc-link fitted\">i<span>Fitted</span></span></div></label><div class=\"sk-toggleable__content fitted\"><pre>LogisticRegression(random_state=10)</pre></div> </div></div></div></div>"
      ],
      "text/plain": [
       "LogisticRegression(random_state=10)"
      ]
     },
     "execution_count": 28,
     "metadata": {},
     "output_type": "execute_result"
    }
   ],
   "source": [
    "no_sent_model"
   ]
  },
  {
   "cell_type": "code",
   "execution_count": 29,
   "id": "a90fcc27",
   "metadata": {},
   "outputs": [
    {
     "data": {
      "text/plain": [
       "0.8109243697478992"
      ]
     },
     "execution_count": 29,
     "metadata": {},
     "output_type": "execute_result"
    }
   ],
   "source": [
    "accuracy_1"
   ]
  },
  {
   "cell_type": "code",
   "execution_count": 36,
   "id": "442c2070",
   "metadata": {},
   "outputs": [
    {
     "name": "stdout",
     "output_type": "stream",
     "text": [
      "Inserted 1 columns.\n",
      "\n",
      "Copied data from text to preprocessed.\n",
      "\n",
      "Lowercased words in ['preprocessed'].\n",
      "\n",
      "Removed pattern: https?://\\S\n",
      "\n",
      "Removed pattern: [^\\s\\w]\n",
      "\n",
      "Removed words.\n",
      "\n",
      "Tokenized text from column: preprocessed\n",
      "\n",
      "Lemmatiezed text from column: preprocessed\n",
      "\n"
     ]
    },
    {
     "data": {
      "text/html": [
       "<div>\n",
       "<style scoped>\n",
       "    .dataframe tbody tr th:only-of-type {\n",
       "        vertical-align: middle;\n",
       "    }\n",
       "\n",
       "    .dataframe tbody tr th {\n",
       "        vertical-align: top;\n",
       "    }\n",
       "\n",
       "    .dataframe thead th {\n",
       "        text-align: right;\n",
       "    }\n",
       "</style>\n",
       "<table border=\"1\" class=\"dataframe\">\n",
       "  <thead>\n",
       "    <tr style=\"text-align: right;\">\n",
       "      <th></th>\n",
       "      <th>keyword</th>\n",
       "      <th>location</th>\n",
       "      <th>text</th>\n",
       "      <th>preprocessed</th>\n",
       "    </tr>\n",
       "    <tr>\n",
       "      <th>id</th>\n",
       "      <th></th>\n",
       "      <th></th>\n",
       "      <th></th>\n",
       "      <th></th>\n",
       "    </tr>\n",
       "  </thead>\n",
       "  <tbody>\n",
       "    <tr>\n",
       "      <th>0</th>\n",
       "      <td>NaN</td>\n",
       "      <td>NaN</td>\n",
       "      <td>Just happened a terrible car crash</td>\n",
       "      <td>[happened, terrible, car, crash]</td>\n",
       "    </tr>\n",
       "    <tr>\n",
       "      <th>2</th>\n",
       "      <td>NaN</td>\n",
       "      <td>NaN</td>\n",
       "      <td>Heard about #earthquake is different cities, s...</td>\n",
       "      <td>[heard, earthquake, different, city, stay, saf...</td>\n",
       "    </tr>\n",
       "    <tr>\n",
       "      <th>3</th>\n",
       "      <td>NaN</td>\n",
       "      <td>NaN</td>\n",
       "      <td>there is a forest fire at spot pond, geese are...</td>\n",
       "      <td>[forest, fire, spot, pond, goose, fleeing, acr...</td>\n",
       "    </tr>\n",
       "    <tr>\n",
       "      <th>9</th>\n",
       "      <td>NaN</td>\n",
       "      <td>NaN</td>\n",
       "      <td>Apocalypse lighting. #Spokane #wildfires</td>\n",
       "      <td>[apocalypse, lighting, spokane, wildfire]</td>\n",
       "    </tr>\n",
       "    <tr>\n",
       "      <th>11</th>\n",
       "      <td>NaN</td>\n",
       "      <td>NaN</td>\n",
       "      <td>Typhoon Soudelor kills 28 in China and Taiwan</td>\n",
       "      <td>[typhoon, soudelor, kill, 28, china, taiwan]</td>\n",
       "    </tr>\n",
       "  </tbody>\n",
       "</table>\n",
       "</div>"
      ],
      "text/plain": [
       "   keyword location                                               text  \\\n",
       "id                                                                       \n",
       "0      NaN      NaN                 Just happened a terrible car crash   \n",
       "2      NaN      NaN  Heard about #earthquake is different cities, s...   \n",
       "3      NaN      NaN  there is a forest fire at spot pond, geese are...   \n",
       "9      NaN      NaN           Apocalypse lighting. #Spokane #wildfires   \n",
       "11     NaN      NaN      Typhoon Soudelor kills 28 in China and Taiwan   \n",
       "\n",
       "                                         preprocessed  \n",
       "id                                                     \n",
       "0                    [happened, terrible, car, crash]  \n",
       "2   [heard, earthquake, different, city, stay, saf...  \n",
       "3   [forest, fire, spot, pond, goose, fleeing, acr...  \n",
       "9           [apocalypse, lighting, spokane, wildfire]  \n",
       "11       [typhoon, soudelor, kill, 28, china, taiwan]  "
      ]
     },
     "execution_count": 36,
     "metadata": {},
     "output_type": "execute_result"
    }
   ],
   "source": [
    "test_data = pd.read_csv(r'data\\test.csv', index_col=0)\n",
    "test_data = (test_data.pipe(insert_columns, columns=[(3, 'preprocessed')])\n",
    "                 .pipe(copy_column_data, source='text', destination='preprocessed')\n",
    "                 .pipe(lower_case_text_columns, columns=['preprocessed'])\n",
    "                 .pipe(remove_pattern, pattern=r\"https?://\\S\", column='preprocessed')\n",
    "                 .pipe(remove_pattern, pattern=r\"[^\\s\\w]\", column='preprocessed') \n",
    "                 .pipe(remove_words, words_list=words, column='preprocessed') \n",
    "                 .pipe(tokenize_text, column='preprocessed') \n",
    "                 .pipe(lemmatize_words, column='preprocessed') \n",
    "            )\n",
    "test_data.head(5)"
   ]
  },
  {
   "cell_type": "code",
   "execution_count": 37,
   "id": "7a014288",
   "metadata": {},
   "outputs": [],
   "source": [
    "test_input = [\",\".join(map(str, l)) for l in test_data['preprocessed']]\n",
    "test_vec_fit = vectorizer.transform(test_input)\n",
    "bow_test = pd.DataFrame(test_vec_fit.toarray(), columns=vectorizer.get_feature_names_out())\n",
    "bow_test.index = test_data.index\n",
    "\n",
    "prediction = no_sent_model.predict(bow_test)\n",
    "\n",
    "output = pd.DataFrame({'id': bow_test.index, 'target': prediction})\n",
    "output.to_csv(r'results\\log_reg_bow.csv', index=False)"
   ]
  },
  {
   "cell_type": "markdown",
   "id": "358e28c0",
   "metadata": {},
   "source": [
    "### Preparing data - TF IDF"
   ]
  },
  {
   "cell_type": "markdown",
   "id": "5d786564",
   "metadata": {},
   "source": [
    "Since the best result for a model trained with a bag of words was from a Logistic Regression model trained only with a bag of words (without any sentiment analysis), here only a Logistic Regression model will be used."
   ]
  },
  {
   "cell_type": "code",
   "execution_count": 38,
   "id": "a1d5fa73",
   "metadata": {},
   "outputs": [],
   "source": [
    "from sklearn.feature_extraction.text import TfidfVectorizer\n",
    "\n",
    "tfidf_vect = TfidfVectorizer()\n",
    "tfidf_fit = tfidf_vect.fit_transform(X)\n",
    "tfidf_data = pd.DataFrame(tfidf_fit.toarray(), columns=tfidf_vect.get_feature_names_out())\n",
    "\n",
    "X_train, X_valid, y_train, y_valid = train_test_split(tfidf_data, y, random_state=42)\n"
   ]
  },
  {
   "cell_type": "markdown",
   "id": "6959eb81",
   "metadata": {},
   "source": [
    "### Creating the model"
   ]
  },
  {
   "cell_type": "code",
   "execution_count": 40,
   "id": "d5977b21",
   "metadata": {},
   "outputs": [
    {
     "name": "stdout",
     "output_type": "stream",
     "text": [
      "Logistic Regression model trained with tf idf data: 0.803046218487395\n"
     ]
    }
   ],
   "source": [
    "model = LogisticRegression()\n",
    "model.fit(X_train, y_train)\n",
    "pred = model.predict(X_valid)\n",
    "accuracy = accuracy_score(y_valid, pred)\n",
    "print(\"Logistic Regression model trained with tf idf data:\", accuracy)"
   ]
  },
  {
   "cell_type": "markdown",
   "id": "d1835291",
   "metadata": {},
   "source": [
    "When trained with a bag of words, the model had the accuracy equal to 0.81 and when the model was train with tf idf the accuracy was 0.80. In conclusion, both approaches on encoding the data were good and sentiment analysis only lowered the accuracy."
   ]
  },
  {
   "cell_type": "code",
   "execution_count": 42,
   "id": "dff76687",
   "metadata": {},
   "outputs": [],
   "source": [
    "tfidf_test_fit = tfidf_vect.transform(test_input)\n",
    "tfidf_test_data = pd.DataFrame(tfidf_test_fit.toarray(), columns=tfidf_vect.get_feature_names_out())\n",
    "prediction_2 = model.predict(tfidf_test_data)\n",
    "output_2 = pd.DataFrame({'id': test_data.index, 'target': prediction_2})\n",
    "output_2.to_csv(r'results\\log_reg_tfidf.csv', index=False)"
   ]
  }
 ],
 "metadata": {
  "kernelspec": {
   "display_name": "nlp_model_env",
   "language": "python",
   "name": "python3"
  },
  "language_info": {
   "codemirror_mode": {
    "name": "ipython",
    "version": 3
   },
   "file_extension": ".py",
   "mimetype": "text/x-python",
   "name": "python",
   "nbconvert_exporter": "python",
   "pygments_lexer": "ipython3",
   "version": "3.11.13"
  }
 },
 "nbformat": 4,
 "nbformat_minor": 5
}
